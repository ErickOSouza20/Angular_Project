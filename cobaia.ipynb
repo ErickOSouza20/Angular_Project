{
 "cells": [
  {
   "cell_type": "code",
   "execution_count": null,
   "metadata": {
    "vscode": {
     "languageId": "markdown"
    }
   },
   "outputs": [],
   "source": [
    "Para criar um novo projeto Angular 17, você pode usar o Angular CLI. Siga os passos abaixo:\n",
    "\n",
    "1. Certifique-se de que você tem o Node.js e o npm instalados.\n",
    "2. Instale o Angular CLI globalmente, se ainda não o fez:\n",
    "    ```bash\n",
    "    npm install -g @angular/cli\n",
    "    ```\n",
    "3. Crie um novo projeto Angular:\n",
    "    ```bash\n",
    "    ng new nome-do-projeto\n",
    "    ```\n",
    "4. Navegue até o diretório do projeto:\n",
    "    ```bash\n",
    "    cd nome-do-projeto\n",
    "    ```\n",
    "5. Inicie o servidor de desenvolvimento:\n",
    "    ```bash\n",
    "    ng serve\n",
    "    ```\n",
    "\n",
    "Isso criará todos os arquivos necessários para um projeto Angular 17 e iniciará o servidor de desenvolvimento. Você pode acessar o projeto no navegador em `http://localhost:4200`."
   ]
  }
 ],
 "metadata": {
  "language_info": {
   "name": "python"
  }
 },
 "nbformat": 4,
 "nbformat_minor": 2
}
